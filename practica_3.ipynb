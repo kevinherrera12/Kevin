{
  "nbformat": 4,
  "nbformat_minor": 0,
  "metadata": {
    "colab": {
      "provenance": [],
      "authorship_tag": "ABX9TyOA8TnNjDXmRwHTuOcOVOS9",
      "include_colab_link": true
    },
    "kernelspec": {
      "name": "python3",
      "display_name": "Python 3"
    },
    "language_info": {
      "name": "python"
    }
  },
  "cells": [
    {
      "cell_type": "markdown",
      "metadata": {
        "id": "view-in-github",
        "colab_type": "text"
      },
      "source": [
        "<a href=\"https://colab.research.google.com/github/kevinherrera12/Kevin/blob/main/practica_3.ipynb\" target=\"_parent\"><img src=\"https://colab.research.google.com/assets/colab-badge.svg\" alt=\"Open In Colab\"/></a>"
      ]
    },
    {
      "cell_type": "code",
      "execution_count": 13,
      "metadata": {
        "id": "9qexYE1V0Yh_",
        "colab": {
          "base_uri": "https://localhost:8080/"
        },
        "outputId": "41e2081b-9bcd-4471-a24d-6d5962ed56b8"
      },
      "outputs": [
        {
          "output_type": "stream",
          "name": "stdout",
          "text": [
            "Ingrese la primera calificación: 32\n",
            "Ingrese la segunda calificación: 65\n",
            "Ingrese la tercera calificación: 98\n",
            "Suficiente\n"
          ]
        }
      ],
      "source": [
        "cal1 = float(input(\"Ingrese la primera calificación: \"))\n",
        "cal2 = float(input(\"Ingrese la segunda calificación: \"))\n",
        "cal3 = float(input(\"Ingrese la tercera calificación: \"))\n",
        "prom=(cal1+cal2+cal3)/3\n",
        "if prom < 30:\n",
        "        print (\"Repetir\")\n",
        "elif 30 <= prom < 60:\n",
        "        print(\"Extraordinario\")\n",
        "elif 60 <= prom < 70:\n",
        "        print(\"Suficiente\")\n",
        "elif 70 <= prom < 80:\n",
        "        print(\"Regular\")\n",
        "elif 80 <= prom < 90:\n",
        "        print(\"Bien\")\n",
        "elif 90 <= prom < 98:\n",
        "        print(\"Muy Bien\")\n",
        "elif 98 <= prom <= 100:\n",
        "        print(\"Excelente\")\n",
        "else:\n",
        "        print(\"Error en promedio\")"
      ]
    },
    {
      "cell_type": "code",
      "source": [
        "horas=int(input(\"Cuantas horas trabajo esta semana \"))\n",
        "salxhora=float(input(\"Cuanto es su sueldo por hora \"))\n",
        "if horas<=40:\n",
        "    sal_norm=horas*salxhora\n",
        "    sal_tot=sal_norm\n",
        "    sal_ext=0\n",
        "elif horas<=49:\n",
        "    sal_norm=40*salxhora\n",
        "    sal_dob=(horas-40)*2*salxhora\n",
        "    sal_ext=sal_dob\n",
        "    sal_tot=sal_norm+sal_ext\n",
        "elif horas>49:\n",
        "    sal_norm=40*salxhora\n",
        "    sal_dob=(9*2)*salxhora\n",
        "    sal_trip=(horas-49)*3*salxhora\n",
        "    sal_ext=sal_dob+sal_trip\n",
        "    sal_tot=sal_norm+sal_ext\n",
        "print(\"Salario por hora: \",salxhora)\n",
        "print(\"Horas Trabajadas: \",horas)\n",
        "print(\"Salario Normal: \",sal_norm)\n",
        "print(\"Salario Extra: \",sal_ext)\n",
        "print(\"Salario Total: \",sal_tot)"
      ],
      "metadata": {
        "id": "NCsHXAW10g4E",
        "colab": {
          "base_uri": "https://localhost:8080/"
        },
        "outputId": "00a67bf9-e86b-45d6-f53f-d005dd8ade15"
      },
      "execution_count": 15,
      "outputs": [
        {
          "output_type": "stream",
          "name": "stdout",
          "text": [
            "Cuantas horas trabajo esta semana 42\n",
            "Cuanto es su sueldo por hora 30\n",
            "Salario por hora:  30.0\n",
            "Horas Trabajadas:  42\n",
            "Salario Normal:  1200.0\n",
            "Salario Extra:  120.0\n",
            "Salario Total:  1320.0\n"
          ]
        }
      ]
    },
    {
      "cell_type": "code",
      "source": [
        "min=int(input(\"¿Cuantos minutos duró su llamada? \"))\n",
        "print(\"1. Local\")\n",
        "print(\"2. Nacional\")\n",
        "print(\"3. Internacional\")\n",
        "tipo=int(input(\"¿Que tipo de llamada fue? \"))\n",
        "if tipo==1:\n",
        "    sub_tot=3\n",
        "    iva=sub_tot*0.16\n",
        "    total=sub_tot+iva\n",
        "elif tipo==2:\n",
        "    if min<=3:\n",
        "        sub_tot=7\n",
        "        iva=sub_tot*0.16\n",
        "        total=sub_tot+iva\n",
        "    else:\n",
        "        sub_tot=((min-3)*2)+7\n",
        "        iva=sub_tot*0.16\n",
        "        total=sub_tot+iva\n",
        "elif tipo==3:\n",
        "    if min<=2:\n",
        "        sub_tot=9\n",
        "        iva=sub_tot*0.16\n",
        "        total=sub_tot+iva\n",
        "    else:\n",
        "        sub_tot=((min-2)*4)+9\n",
        "        iva=sub_tot*0.16\n",
        "        total=sub_tot+iva\n",
        "print(\"Subtotal: \",sub_tot)\n",
        "print(\"IVA: \",iva)\n",
        "print(\"Total: \",total)"
      ],
      "metadata": {
        "id": "ALHp4yZ30hL1",
        "colab": {
          "base_uri": "https://localhost:8080/"
        },
        "outputId": "8be5d927-af61-40ef-89bb-714560369574"
      },
      "execution_count": 16,
      "outputs": [
        {
          "output_type": "stream",
          "name": "stdout",
          "text": [
            "¿Cuantos minutos duró su llamada? 6\n",
            "1. Local\n",
            "2. Nacional\n",
            "3. Internacional\n",
            "¿Que tipo de llamada fue? 1\n",
            "Subtotal:  3\n",
            "IVA:  0.48\n",
            "Total:  3.48\n"
          ]
        }
      ]
    },
    {
      "cell_type": "code",
      "source": [
        "m3dagua=int(input(\"¿Cuantos metros cubicos consumio?\"))\n",
        "if m3dagua<5:\n",
        "    sub_tot=50\n",
        "    iva=sub_tot*0.16\n",
        "    total=sub_tot+iva\n",
        "elif m3dagua<=15:\n",
        "    sub_tot=8*m3dagu\n",
        "    iva=sub_tot*0.16\n",
        "    total=sub_tot+iva\n",
        "elif m3dagua<=50:\n",
        "    sub_tot=10*m3dagua\n",
        "    iva=sub_tot*0.16\n",
        "    total=sub_tot+iva\n",
        "else:\n",
        "    sub_tot=11*m3dagua\n",
        "    iva=sub_tot*0.16\n",
        "    total=sub_tot+iva\n",
        "print(\"SUBTOTAL: \",sub_tot)\n",
        "print(\"IVA: \",iva)\n",
        "print(\"TOTAL: \",total)"
      ],
      "metadata": {
        "id": "bFnbMJ3b0hw-",
        "colab": {
          "base_uri": "https://localhost:8080/"
        },
        "outputId": "40d69732-a197-4b3b-ce70-3188d96734b1"
      },
      "execution_count": 18,
      "outputs": [
        {
          "output_type": "stream",
          "name": "stdout",
          "text": [
            "¿Cuantos metros cubicos consumio?30\n",
            "SUBTOTAL:  300\n",
            "IVA:  48.0\n",
            "TOTAL:  348.0\n"
          ]
        }
      ]
    },
    {
      "cell_type": "code",
      "source": [
        "cal1=int(input(\"Dame la calificacion del examen 1: \"))\n",
        "cal2=int(input(\"Dame la calificacion del examen 2: \"))\n",
        "cal3=int(input(\"Dame la calificacion del examen 3: \"))\n",
        "cal4=int(input(\"Dame la calificacion del examen 4: \"))\n",
        "cal5=int(input(\"Dame la calificacion del examen 5: \"))\n",
        "menor=cal1\n",
        "if cal2<menor:\n",
        "    menor=cal2\n",
        "elif cal3<menor:\n",
        "    menor=cal3\n",
        "elif cal4<menor:\n",
        "    menor=cal4\n",
        "elif cal5<menor:\n",
        "    menor=cal5\n",
        "prom=(cal1+cal2+cal3+cal4+cal5-menor)/4\n",
        "print(\"El promedio es: \",prom)"
      ],
      "metadata": {
        "id": "AW-m0cCK0iJM",
        "colab": {
          "base_uri": "https://localhost:8080/"
        },
        "outputId": "254fdefc-7b2a-4ef1-ca4d-3ca386e1b3db"
      },
      "execution_count": 19,
      "outputs": [
        {
          "output_type": "stream",
          "name": "stdout",
          "text": [
            "Dame la calificacion del examen 1: 30\n",
            "Dame la calificacion del examen 2: 56\n",
            "Dame la calificacion del examen 3: 45\n",
            "Dame la calificacion del examen 4: 98\n",
            "Dame la calificacion del examen 5: 78\n",
            "El promedio es:  69.25\n"
          ]
        }
      ]
    },
    {
      "cell_type": "code",
      "source": [
        "print(\"Bienvenido al juego CHINCHAMPU\")\n",
        "print(\"1.-Piedra\")\n",
        "print(\"2.-Papel\")\n",
        "print(\"3.-Tijera\")\n",
        "user_opc=int(input(\"Elige tu jugada \"))\n",
        "if pc_opc<=10:\n",
        "    pc_opc=1\n",
        "elif pc_opc<=20:\n",
        "    pc_opc=2\n",
        "else:\n",
        "    pc_opc=3\n",
        "\n",
        "if user_opc==1:\n",
        "    if pc_opc==1:\n",
        "        print(f\"Usted eligio PIEDRA\")\n",
        "        print(f\"La pc eligio PIEDRA\")\n",
        "        print(\"El resultado es EMPATE\")\n",
        "    else:\n",
        "        if pc_opc==2:\n",
        "            print(f\"Usted eligio PIEDRA\")\n",
        "            print(f\"La pc eligio PAPEL\")\n",
        "            print(\"El resultado es PERDISTE\")\n",
        "        else:\n",
        "            print(f\"Usted eligio PIEDRA\")\n",
        "            print(f\"La pc eligio TIJERAS\")\n",
        "            print(\"El resultado es GANASTE\")\n",
        "else:\n",
        "    if user_opc==2:\n",
        "        if pc_opc==1:\n",
        "            print(f\"Usted eligio PAPEL\")\n",
        "            print(f\"La pc eligio PIEDRA\")\n",
        "            print(\"El resultado es GANASTE\")\n",
        "        else:\n",
        "            if pc_opc==2:\n",
        "                print(f\"Usted eligio PAPEL\")\n",
        "                print(f\"La pc eligio PAPEL\")\n",
        "                print(\"El resultado es EMPATE\")\n",
        "            else:\n",
        "                print(f\"Usted eligio PAPEL\")\n",
        "                print(f\"La pc eligio TIJERAS\")\n",
        "                print(\"El resultado es PERDISTE\")\n",
        "    else:\n",
        "        if pc_opc==1:\n",
        "            print(f\"Usted eligio TIJERAS\")\n",
        "            print(f\"La pc eligio PIEDRA\")\n",
        "            print(\"El resultado es PERDISTE\")\n",
        "        else:\n",
        "            if pc_opc==2:\n",
        "                print(f\"Usted eligio TIJERAS\")\n",
        "                print(f\"La pc eligio PAPEL\")\n",
        "                print(\"El resultado es GANASTE\")\n",
        "            else:\n",
        "                print(f\"Usted eligio TIJERAS\")\n",
        "                print(f\"La pc eligio TIJERAS\")\n",
        "                print(\"El resultado es EMPATE\")\n",
        "\n"
      ],
      "metadata": {
        "id": "xsOUVjgH0ibS"
      },
      "execution_count": null,
      "outputs": []
    },
    {
      "cell_type": "code",
      "source": [
        "print(\"Bienvenido al juego CHINCHAMPU\")\n",
        "print(\"1.-Piedra\")\n",
        "print(\"2.-Papel\")\n",
        "print(\"3.-Tijera\")\n",
        "user_opc=int(input(\"Elige tu jugada \"))\n",
        "if pc_opc<=10:\n",
        "    pc_opc=1\n",
        "elif pc_opc<=20:\n",
        "    pc_opc=2\n",
        "else:\n",
        "    pc_opc=3\n",
        "\n",
        "if user_opc==1:\n",
        "    if pc_opc==1:\n",
        "        print(f\"Usted eligio PIEDRA\")\n",
        "        print(f\"La pc eligio PIEDRA\")\n",
        "        print(\"El resultado es EMPATE\")\n",
        "    elif pc_opc==2:\n",
        "        print(f\"Usted eligio PIEDRA\")\n",
        "        print(f\"La pc eligio PAPEL\")\n",
        "        print(\"El resultado es PERDISTE\")\n",
        "    elif pc_opc==3:\n",
        "        print(f\"Usted eligio PIEDRA\")\n",
        "        print(f\"La pc eligio TIJERAS\")\n",
        "        print(\"El resultado es GANASTE\")\n",
        "elif user_opc==2:\n",
        "    if pc_opc==1:\n",
        "        print(f\"Usted eligio PAPEL\")\n",
        "        print(f\"La pc eligio PIEDRA\")\n",
        "        print(\"El resultado es GANASTE\")\n",
        "    elif pc_opc==2:\n",
        "        print(f\"Usted eligio PAPEL\")\n",
        "        print(f\"La pc eligio PAPEL\")\n",
        "        print(\"El resultado es EMPATE\")\n",
        "    elif pc_opc==3:\n",
        "        print(f\"Usted eligio PAPEL\")\n",
        "        print(f\"La pc eligio TIJERAS\")\n",
        "        print(\"El resultado es PERDISTE\")\n",
        "elif user_opc==3:\n",
        "    if pc_opc==1:\n",
        "        print(f\"Usted eligio TIJERAS\")\n",
        "        print(f\"La pc eligio PIEDRA\")\n",
        "        print(\"El resultado es PERDISTE\")\n",
        "    elif pc_opc==2:\n",
        "        print(f\"Usted eligio TIJERAS\")\n",
        "        print(f\"La pc eligio PAPEL\")\n",
        "        print(\"El resultado es GANASTE\")\n",
        "    elif pc_opc==3:\n",
        "        print(f\"Usted eligio TIJERAS\")\n",
        "        print(f\"La pc eligio TIJERAS\")\n",
        "        print(\"El resultado es EMPATE\")"
      ],
      "metadata": {
        "id": "DDMGFQuz0iu-"
      },
      "execution_count": null,
      "outputs": []
    },
    {
      "cell_type": "code",
      "source": [],
      "metadata": {
        "id": "PMFeAU620i-K"
      },
      "execution_count": 10,
      "outputs": []
    },
    {
      "cell_type": "code",
      "source": [],
      "metadata": {
        "id": "VJBg4Ucl0jNn"
      },
      "execution_count": null,
      "outputs": []
    },
    {
      "cell_type": "code",
      "source": [],
      "metadata": {
        "id": "DeRJsYQd0jc-"
      },
      "execution_count": null,
      "outputs": []
    }
  ]
}