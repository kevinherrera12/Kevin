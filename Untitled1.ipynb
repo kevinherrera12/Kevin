{
  "nbformat": 4,
  "nbformat_minor": 0,
  "metadata": {
    "colab": {
      "provenance": [],
      "authorship_tag": "ABX9TyOUzhFiPxuumQM7PN2+efwu",
      "include_colab_link": true
    },
    "kernelspec": {
      "name": "python3",
      "display_name": "Python 3"
    },
    "language_info": {
      "name": "python"
    }
  },
  "cells": [
    {
      "cell_type": "markdown",
      "metadata": {
        "id": "view-in-github",
        "colab_type": "text"
      },
      "source": [
        "<a href=\"https://colab.research.google.com/github/kevinherrera12/Kevin/blob/main/Untitled1.ipynb\" target=\"_parent\"><img src=\"https://colab.research.google.com/assets/colab-badge.svg\" alt=\"Open In Colab\"/></a>"
      ]
    },
    {
      "cell_type": "code",
      "source": [
        "num1 = int (input(\"DAME UN NUMERO \"))\n",
        "num2 = int (input(\"DAME OTRO NUMERO \"))\n",
        "if num1 > num2:\n",
        "   print(num1,\"ES MAYOR\")\n",
        "if num2 > num1:\n",
        "   print(num2,\"ES MAYOR\")"
      ],
      "metadata": {
        "id": "iaVM-eMfj27O"
      },
      "execution_count": null,
      "outputs": []
    },
    {
      "cell_type": "code",
      "source": [
        "cal1= float(input(\"DAME TU PRIMER CALIFICACIONES \"))\n",
        "cal2= float(input(\"DAME TU SEGUNDA CALIFICACIONES \"))\n",
        "cal3= float(input(\"DAME TU TERCER CALIFICACIONES \"))\n",
        "cal4= float(input(\"DAME TU CUARTA CALIFICACIONES \"))\n",
        "prom=(cal1+cal2+cal3+cal4)/4\n",
        "if prom >= 60:\n",
        "    print(\"USTED A SIDO APROBADO CON UNA CALIFICACION DE\",prom)\n",
        "if prom < 60:\n",
        "    print(\"USTED A SIDO REPROBADO CON UNA CALIFICACION DE\",prom)"
      ],
      "metadata": {
        "id": "n-VzEwwXmeiY"
      },
      "execution_count": null,
      "outputs": []
    },
    {
      "cell_type": "code",
      "source": [
        "print(\"1-HOMBRE\")\n",
        "print(\"2-MUJER\")\n",
        "gnro= int(input(\"CUAL DE LOS DOS NUMEROS CUNCUERDA A TU GENERO \"))\n",
        "if gnro == 1:\n",
        "     print(\"USTED ES HOMBRE\")\n",
        "if gnro == 2:\n",
        "     print(\"USTED ES MUJER\")"
      ],
      "metadata": {
        "id": "9WWzmRzHECo4"
      },
      "execution_count": null,
      "outputs": []
    },
    {
      "cell_type": "code",
      "source": [
        "num=int(input(\"INGRESA UN NUMERO \"))\n",
        "if num %2 ==0:\n",
        "    print(num,\"ES NUMERO PAR\")\n",
        "if num %2 ==1:\n",
        "    print(num,\"ES NUMERO IMPAR\")"
      ],
      "metadata": {
        "id": "ZKGQo_AXEDAa"
      },
      "execution_count": null,
      "outputs": []
    },
    {
      "cell_type": "code",
      "source": [
        "num1 = int(input(\"INGRESE UN NUMERO:\"))\n",
        "num2 = int(input(\"INGRESE OTRO NUMERO:\"))\n",
        "if num1>num2:\n",
        "    print(\"EL NUMERO MAYOR ES\",num1)\n",
        "else:\n",
        "    print(\"EL NUMERO MAYOR ES\",num2)"
      ],
      "metadata": {
        "id": "9miFB8XiEDOs"
      },
      "execution_count": null,
      "outputs": []
    },
    {
      "cell_type": "code",
      "source": [
        "cal1= float(input(\"DAME TU PRIMER CALIFICACIONES \"))\n",
        "cal2= float(input(\"DAME TU SEGUNDA CALIFICACIONES \"))\n",
        "cal3= float(input(\"DAME TU TERCER CALIFICACIONES \"))\n",
        "cal4= float(input(\"DAME TU CUARTA CALIFICACIONES \"))\n",
        "prom=(cal1+cal2+cal3+cal4)//4\n",
        "if prom >= 60:\n",
        "    print(\"USTED A SIDO APROBADO CON UNA CALIFICACION DE\",prom)\n",
        "else:\n",
        "    print(\"USTED A SIDO REPROBADO CON UNA CALIFICACION DE\",prom)"
      ],
      "metadata": {
        "id": "Gf8UlofjEDfD"
      },
      "execution_count": null,
      "outputs": []
    },
    {
      "cell_type": "code",
      "source": [
        "print(\"1-HOMBRE\")\n",
        "print(\"2-MUJER\")\n",
        "gnro= int(input(\"CUAL DE LOS DOS NUMEROS CUNCUERDA A TU GENERO \"))\n",
        "if gnro == 1:\n",
        "    print(\"USTED ES HOMBRE\")\n",
        "else:\n",
        "    print(\"USTED ES MUJER\")"
      ],
      "metadata": {
        "id": "YSvAM0J_S2_G"
      },
      "execution_count": null,
      "outputs": []
    },
    {
      "cell_type": "code",
      "source": [
        "x=int(input(\"INGRESE UN NUMERO \"))\n",
        "num=x\n",
        "if num % 2 == 0:\n",
        "    print(\"EL NUMERO \",num,\" ES PAR\")\n",
        "else:\n",
        "    print(\"EL NUMERO \",num,\" ES IMPAR\")"
      ],
      "metadata": {
        "id": "RCWgbUzNMGNP"
      },
      "execution_count": null,
      "outputs": []
    }
  ]
}