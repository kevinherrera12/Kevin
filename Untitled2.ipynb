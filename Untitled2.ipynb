{
  "nbformat": 4,
  "nbformat_minor": 0,
  "metadata": {
    "colab": {
      "provenance": [],
      "authorship_tag": "ABX9TyNCRY62jSnT9BzLLe4BzfwN",
      "include_colab_link": true
    },
    "kernelspec": {
      "name": "python3",
      "display_name": "Python 3"
    },
    "language_info": {
      "name": "python"
    }
  },
  "cells": [
    {
      "cell_type": "markdown",
      "metadata": {
        "id": "view-in-github",
        "colab_type": "text"
      },
      "source": [
        "<a href=\"https://colab.research.google.com/github/kevinherrera12/Kevin/blob/main/Untitled2.ipynb\" target=\"_parent\"><img src=\"https://colab.research.google.com/assets/colab-badge.svg\" alt=\"Open In Colab\"/></a>"
      ]
    },
    {
      "cell_type": "code",
      "execution_count": 17,
      "metadata": {
        "id": "cSWUrrfc9Mzl"
      },
      "outputs": [],
      "source": [
        "def numfactorial():\n",
        "\n",
        "  num=int(input(\"DAME UN NUMERO: \"))\n",
        "  x=num-1\n",
        "  l=num-2\n",
        "  k=num-3\n",
        "  factorial=(num*x*l)\n",
        "  print(factorial)"
      ]
    },
    {
      "cell_type": "code",
      "source": [
        "numfactorial()\n"
      ],
      "metadata": {
        "id": "n3BB0tZF-5Vi"
      },
      "execution_count": null,
      "outputs": []
    },
    {
      "cell_type": "code",
      "source": [
        "def areatraingualo():\n",
        "  base=int(input(\"DAME LA BASE DEL TRAINGUALO: \"))\n",
        "  altura=int(input(\"DAME LA ALTURA DEL TRAINGUALO: \"))\n",
        "  area=(base*altura)/2\n",
        "  return area"
      ],
      "metadata": {
        "id": "UkYxix33Adan"
      },
      "execution_count": 19,
      "outputs": []
    },
    {
      "cell_type": "code",
      "source": [
        "areatraingualo()"
      ],
      "metadata": {
        "id": "D7QRhVIVA1yf"
      },
      "execution_count": null,
      "outputs": []
    },
    {
      "cell_type": "code",
      "source": [
        "def numerorango():\n",
        "  import random\n",
        "  num=random.randrange(1,9)\n",
        "  return num"
      ],
      "metadata": {
        "id": "JXGYy-iRBw9H"
      },
      "execution_count": 21,
      "outputs": []
    },
    {
      "cell_type": "code",
      "source": [],
      "metadata": {
        "colab": {
          "base_uri": "https://localhost:8080/"
        },
        "id": "EdoE5labDBue",
        "outputId": "28d482f6-be6f-4f58-f6e3-57bb3137295e"
      },
      "execution_count": 26,
      "outputs": [
        {
          "output_type": "execute_result",
          "data": {
            "text/plain": [
              "6"
            ]
          },
          "metadata": {},
          "execution_count": 26
        }
      ]
    }
  ]
}