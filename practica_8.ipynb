{
  "nbformat": 4,
  "nbformat_minor": 0,
  "metadata": {
    "colab": {
      "provenance": [],
      "authorship_tag": "ABX9TyOiW2ewxJ6WRaQ1hhpREcFW",
      "include_colab_link": true
    },
    "kernelspec": {
      "name": "python3",
      "display_name": "Python 3"
    },
    "language_info": {
      "name": "python"
    }
  },
  "cells": [
    {
      "cell_type": "markdown",
      "metadata": {
        "id": "view-in-github",
        "colab_type": "text"
      },
      "source": [
        "<a href=\"https://colab.research.google.com/github/kevinherrera12/Kevin/blob/main/practica_8.ipynb\" target=\"_parent\"><img src=\"https://colab.research.google.com/assets/colab-badge.svg\" alt=\"Open In Colab\"/></a>"
      ]
    },
    {
      "cell_type": "markdown",
      "source": [
        "1.- Programa en python que genere un número entre el 1 y 10 (no visible)  preguntarle al usuario que número cree que generó la computadora, el usuario tendrá 3 oportunidades de adivinar.\n",
        "\n",
        "Decir si adivino o si falló en sus 3 intentos.\n",
        "\n",
        "\n",
        "\n",
        "NOTA: 100% VALIDADO (usar función para validar números)\n",
        "\n",
        "\n",
        "\n",
        "NOTA2: El usuario podrá jugar cuantas veces lo desee, al final del juego desplegar cantidad de ganados y perdidos\n"
      ],
      "metadata": {
        "id": "1_sciOGOqAGt"
      }
    },
    {
      "cell_type": "code",
      "execution_count": null,
      "metadata": {
        "id": "FyS6TeVrpkEs"
      },
      "outputs": [],
      "source": [
        "import random\n",
        "\n",
        "def validanum(numero):\n",
        "    try:\n",
        "        numero = int(numero)\n",
        "        if 1 <= numero <= 10:\n",
        "            return True, numero\n",
        "        else:\n",
        "            return False, None\n",
        "    except ValueError:\n",
        "        return False, None\n",
        "\n",
        "def jugar():\n",
        "    ganados = 0\n",
        "    perdidos = 0\n",
        "    jugar_otra_vez = True\n",
        "\n",
        "    while jugar_otra_vez:\n",
        "        numerogen = random.randint(1, 10)\n",
        "        intentos = 3\n",
        "        print(\"ADIVINA EL NUMERO DEL 1 AL 10 QUE A GENERADO LA COMPUTADORA\")\n",
        "\n",
        "        while intentos > 0:\n",
        "            guess = input(\"ESTE ES TU INTENTO: \")\n",
        "            valido, numero_usuario = validanum(guess)\n",
        "\n",
        "            if valido:\n",
        "                if numero_usuario == numerogen:\n",
        "                    print(\"¡FELICIDADES!ACERTASTE EL NUMERO\")\n",
        "                    ganados += 1\n",
        "                    break\n",
        "                else:\n",
        "                    intentos -= 1\n",
        "                    if intentos > 0:\n",
        "                        print(\"INCORRECTO.TE QUEDAN {} INTENTOS.\".format(intentos))\n",
        "            else:\n",
        "                print(\"SOLO SE PERMITEN NUMERO DEL 1 AL 10\")\n",
        "\n",
        "        if intentos == 0:\n",
        "            print(\"¡HAS ACABADO TUS INTENTOS EL NUMERO ERA {}.\".format(numerogen))\n",
        "            perdidos += 1\n",
        "\n",
        "        jugar_otra_ve = input(\"¿QUIERES INTENTARLOD DE NUEVO? (s/no): \")\n",
        "        if jugar_otra_ve.lower() != 's':\n",
        "            jugar_otra_vez = False\n",
        "\n",
        "    print(\"JUEGOS GANADOS {} VECES Y HAS PERDIDO {} VECES.\".format(ganados, perdidos))\n",
        "\n",
        "jugar()"
      ]
    },
    {
      "cell_type": "markdown",
      "source": [
        "2.- El juego Busca Número muestra una lista de 10 numeros, sin mostrar su contenido,\n",
        "\n",
        "Al usuario se le muestra un número que se generó aleatoriamente y el usuario tendrá 3 intentos de adivinar en qué índice del arreglo se encuentra.\n",
        "\n",
        "El usuario recibirá un mensaje que diga GANASTE, PERDISTE, TIENES UN NUEVO INTENTO\n",
        "\n",
        "El usuario podrá jugar cuantas veces lo desee."
      ],
      "metadata": {
        "id": "UkvFx-xUqFas"
      }
    },
    {
      "cell_type": "code",
      "source": [
        "import random\n",
        "\n",
        "def generar_lista():\n",
        "    lista = random.sample(range(1, 11), 10)\n",
        "    return lista\n",
        "\n",
        "def jugar_busca_numero():\n",
        "    jugar_otra_vez = True\n",
        "    while jugar_otra_vez:\n",
        "        lista = generar_lista()\n",
        "        numero_secreto = random.choice(lista)\n",
        "        intentos_restantes = 3\n",
        "        print(\"¡Bienvenido al juego Busca Número!\")\n",
        "        print(\"Aquí tienes la lista de números, intenta adivinar en qué índice se encuentra el número secreto:\")\n",
        "\n",
        "        while intentos_restantes > 0:\n",
        "            try:\n",
        "                indice_guess = int(input(\"Ingresa tu índice de adivinanza (0-9): \"))\n",
        "                if 0 <= indice_guess <= 9:\n",
        "                    if lista[indice_guess] == numero_secreto:\n",
        "                        print(\"¡GANASTE! El número secreto estaba en el índice {}.\".format(indice_guess))\n",
        "                        break\n",
        "                    else:\n",
        "                        intentos_restantes -= 1\n",
        "                        if intentos_restantes > 0:\n",
        "                            print(\"¡PERDISTE! El número secreto no estaba en el índice {}. Te quedan {} intentos.\".format(indice_guess, intentos_restantes))\n",
        "                        else:\n",
        "                            print(\"¡PERDISTE! El número secreto era {}.\".format(numero_secreto))\n",
        "                else:\n",
        "                    print(\"Por favor ingresa un índice válido entre 0 y 9.\")\n",
        "            except ValueError:\n",
        "                print(\"Por favor ingresa un número entero.\")\n",
        "\n",
        "        respuesta = input(\"¿Quieres jugar de nuevo? (s/n): \")\n",
        "        if respuesta.lower() != 's':\n",
        "            jugar_otra_vez = False\n",
        "\n",
        "    print(\"¡Gracias por jugar Busca Número!\")\n",
        "\n",
        "jugar_busca_numero()"
      ],
      "metadata": {
        "id": "Da4paMri8kmR",
        "colab": {
          "base_uri": "https://localhost:8080/",
          "height": 460
        },
        "outputId": "cca73cac-007c-4ed6-e773-74d3ed23d2ca"
      },
      "execution_count": null,
      "outputs": [
        {
          "output_type": "stream",
          "name": "stdout",
          "text": [
            "¡Bienvenido al juego Busca Número!\n",
            "Aquí tienes la lista de números, intenta adivinar en qué índice se encuentra el número secreto:\n",
            "Ingresa tu índice de adivinanza (0-9): 5\n",
            "¡PERDISTE! El número secreto no estaba en el índice 5. Te quedan 2 intentos.\n",
            "Ingresa tu índice de adivinanza (0-9): 9\n",
            "¡PERDISTE! El número secreto no estaba en el índice 9. Te quedan 1 intentos.\n",
            "Ingresa tu índice de adivinanza (0-9): 7\n",
            "¡PERDISTE! El número secreto era 4.\n"
          ]
        },
        {
          "output_type": "error",
          "ename": "KeyboardInterrupt",
          "evalue": "Interrupted by user",
          "traceback": [
            "\u001b[0;31m---------------------------------------------------------------------------\u001b[0m",
            "\u001b[0;31mKeyboardInterrupt\u001b[0m                         Traceback (most recent call last)",
            "\u001b[0;32m<ipython-input-8-4ab7b67a3a2b>\u001b[0m in \u001b[0;36m<cell line: 40>\u001b[0;34m()\u001b[0m\n\u001b[1;32m     38\u001b[0m     \u001b[0mprint\u001b[0m\u001b[0;34m(\u001b[0m\u001b[0;34m\"¡Gracias por jugar Busca Número!\"\u001b[0m\u001b[0;34m)\u001b[0m\u001b[0;34m\u001b[0m\u001b[0;34m\u001b[0m\u001b[0m\n\u001b[1;32m     39\u001b[0m \u001b[0;34m\u001b[0m\u001b[0m\n\u001b[0;32m---> 40\u001b[0;31m \u001b[0mjugar_busca_numero\u001b[0m\u001b[0;34m(\u001b[0m\u001b[0;34m)\u001b[0m\u001b[0;34m\u001b[0m\u001b[0;34m\u001b[0m\u001b[0m\n\u001b[0m",
            "\u001b[0;32m<ipython-input-8-4ab7b67a3a2b>\u001b[0m in \u001b[0;36mjugar_busca_numero\u001b[0;34m()\u001b[0m\n\u001b[1;32m     32\u001b[0m                 \u001b[0mprint\u001b[0m\u001b[0;34m(\u001b[0m\u001b[0;34m\"Por favor ingresa un número entero.\"\u001b[0m\u001b[0;34m)\u001b[0m\u001b[0;34m\u001b[0m\u001b[0;34m\u001b[0m\u001b[0m\n\u001b[1;32m     33\u001b[0m \u001b[0;34m\u001b[0m\u001b[0m\n\u001b[0;32m---> 34\u001b[0;31m         \u001b[0mrespuesta\u001b[0m \u001b[0;34m=\u001b[0m \u001b[0minput\u001b[0m\u001b[0;34m(\u001b[0m\u001b[0;34m\"¿Quieres jugar de nuevo? (s/n): \"\u001b[0m\u001b[0;34m)\u001b[0m\u001b[0;34m\u001b[0m\u001b[0;34m\u001b[0m\u001b[0m\n\u001b[0m\u001b[1;32m     35\u001b[0m         \u001b[0;32mif\u001b[0m \u001b[0mrespuesta\u001b[0m\u001b[0;34m.\u001b[0m\u001b[0mlower\u001b[0m\u001b[0;34m(\u001b[0m\u001b[0;34m)\u001b[0m \u001b[0;34m!=\u001b[0m \u001b[0;34m's'\u001b[0m\u001b[0;34m:\u001b[0m\u001b[0;34m\u001b[0m\u001b[0;34m\u001b[0m\u001b[0m\n\u001b[1;32m     36\u001b[0m             \u001b[0mjugar_otra_vez\u001b[0m \u001b[0;34m=\u001b[0m \u001b[0;32mFalse\u001b[0m\u001b[0;34m\u001b[0m\u001b[0;34m\u001b[0m\u001b[0m\n",
            "\u001b[0;32m/usr/local/lib/python3.10/dist-packages/ipykernel/kernelbase.py\u001b[0m in \u001b[0;36mraw_input\u001b[0;34m(self, prompt)\u001b[0m\n\u001b[1;32m    849\u001b[0m                 \u001b[0;34m\"raw_input was called, but this frontend does not support input requests.\"\u001b[0m\u001b[0;34m\u001b[0m\u001b[0;34m\u001b[0m\u001b[0m\n\u001b[1;32m    850\u001b[0m             )\n\u001b[0;32m--> 851\u001b[0;31m         return self._input_request(str(prompt),\n\u001b[0m\u001b[1;32m    852\u001b[0m             \u001b[0mself\u001b[0m\u001b[0;34m.\u001b[0m\u001b[0m_parent_ident\u001b[0m\u001b[0;34m,\u001b[0m\u001b[0;34m\u001b[0m\u001b[0;34m\u001b[0m\u001b[0m\n\u001b[1;32m    853\u001b[0m             \u001b[0mself\u001b[0m\u001b[0;34m.\u001b[0m\u001b[0m_parent_header\u001b[0m\u001b[0;34m,\u001b[0m\u001b[0;34m\u001b[0m\u001b[0;34m\u001b[0m\u001b[0m\n",
            "\u001b[0;32m/usr/local/lib/python3.10/dist-packages/ipykernel/kernelbase.py\u001b[0m in \u001b[0;36m_input_request\u001b[0;34m(self, prompt, ident, parent, password)\u001b[0m\n\u001b[1;32m    893\u001b[0m             \u001b[0;32mexcept\u001b[0m \u001b[0mKeyboardInterrupt\u001b[0m\u001b[0;34m:\u001b[0m\u001b[0;34m\u001b[0m\u001b[0;34m\u001b[0m\u001b[0m\n\u001b[1;32m    894\u001b[0m                 \u001b[0;31m# re-raise KeyboardInterrupt, to truncate traceback\u001b[0m\u001b[0;34m\u001b[0m\u001b[0;34m\u001b[0m\u001b[0m\n\u001b[0;32m--> 895\u001b[0;31m                 \u001b[0;32mraise\u001b[0m \u001b[0mKeyboardInterrupt\u001b[0m\u001b[0;34m(\u001b[0m\u001b[0;34m\"Interrupted by user\"\u001b[0m\u001b[0;34m)\u001b[0m \u001b[0;32mfrom\u001b[0m \u001b[0;32mNone\u001b[0m\u001b[0;34m\u001b[0m\u001b[0;34m\u001b[0m\u001b[0m\n\u001b[0m\u001b[1;32m    896\u001b[0m             \u001b[0;32mexcept\u001b[0m \u001b[0mException\u001b[0m \u001b[0;32mas\u001b[0m \u001b[0me\u001b[0m\u001b[0;34m:\u001b[0m\u001b[0;34m\u001b[0m\u001b[0;34m\u001b[0m\u001b[0m\n\u001b[1;32m    897\u001b[0m                 \u001b[0mself\u001b[0m\u001b[0;34m.\u001b[0m\u001b[0mlog\u001b[0m\u001b[0;34m.\u001b[0m\u001b[0mwarning\u001b[0m\u001b[0;34m(\u001b[0m\u001b[0;34m\"Invalid Message:\"\u001b[0m\u001b[0;34m,\u001b[0m \u001b[0mexc_info\u001b[0m\u001b[0;34m=\u001b[0m\u001b[0;32mTrue\u001b[0m\u001b[0;34m)\u001b[0m\u001b[0;34m\u001b[0m\u001b[0;34m\u001b[0m\u001b[0m\n",
            "\u001b[0;31mKeyboardInterrupt\u001b[0m: Interrupted by user"
          ]
        }
      ]
    }
  ]
}