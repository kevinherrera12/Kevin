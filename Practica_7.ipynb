{
  "nbformat": 4,
  "nbformat_minor": 0,
  "metadata": {
    "colab": {
      "provenance": [],
      "authorship_tag": "ABX9TyP9cc5pZ9Bop43EsKTEtlo0",
      "include_colab_link": true
    },
    "kernelspec": {
      "name": "python3",
      "display_name": "Python 3"
    },
    "language_info": {
      "name": "python"
    }
  },
  "cells": [
    {
      "cell_type": "markdown",
      "metadata": {
        "id": "view-in-github",
        "colab_type": "text"
      },
      "source": [
        "<a href=\"https://colab.research.google.com/github/kevinherrera12/Kevin/blob/main/Practica_7.ipynb\" target=\"_parent\"><img src=\"https://colab.research.google.com/assets/colab-badge.svg\" alt=\"Open In Colab\"/></a>"
      ]
    },
    {
      "cell_type": "markdown",
      "source": [
        "**1.- Función que utilice una lista con los nombres de tus mascotas, o artistas favoritos, (minimo 5, maximo 10) imprimir las cadenas y la cantidad de caracteres de cada cadena.  **\n",
        "\n"
      ],
      "metadata": {
        "id": "Y9QjVC9ItT69"
      }
    },
    {
      "cell_type": "code",
      "source": [
        "lista=[\"PEDRO PASCAL\",\"DUKI\",\"BZRP\",\"KEVIN HART\",\"JUNIOR H\",\"MBAPPE\"]\n",
        "i=1\n",
        "for cadena in lista:\n",
        "  print(f\"{i}: {cadena}----> {len(cadena)} Caracteres \")\n",
        "  i+=1"
      ],
      "metadata": {
        "id": "shURaM6-x13o",
        "colab": {
          "base_uri": "https://localhost:8080/"
        },
        "outputId": "78dfdcc5-457f-4abd-ccc5-45ba42153929"
      },
      "execution_count": 1,
      "outputs": [
        {
          "output_type": "stream",
          "name": "stdout",
          "text": [
            "1: PEDRO PASCAL----> 12 Caracteres \n",
            "2: DUKI----> 4 Caracteres \n",
            "3: BZRP----> 4 Caracteres \n",
            "4: KEVIN HART----> 10 Caracteres \n",
            "5: JUNIOR H----> 8 Caracteres \n",
            "6: MBAPPE----> 6 Caracteres \n"
          ]
        }
      ]
    },
    {
      "cell_type": "markdown",
      "source": [
        "2.- Programa que utilice 2 funciones,\n",
        "\n",
        "Función que genere y regrese una lista con 10 números aleatorios entre el 30 y 50 (no repetidos).\n",
        "Función que reciba una lista , Imprimir la lista (Indice y Valor )\n"
      ],
      "metadata": {
        "id": "mLCZZQRCy7td"
      }
    },
    {
      "cell_type": "code",
      "source": [
        "import random\n",
        "\n",
        "def generar():\n",
        "    num = set()\n",
        "    while len(num) < 10:\n",
        "        numero = random.randrange(30, 51)\n",
        "        num.add(numero)\n",
        "    return list(num)\n",
        "\n",
        "def imprimir_lista(lista):\n",
        "    for indice, valor in enumerate(lista):\n",
        "        print(f\"Índice: {indice} Valor: {valor}\")\n",
        "\n",
        "\n",
        "num= generar()\n",
        "\n",
        "imprimir_lista(num)"
      ],
      "metadata": {
        "id": "GmWW4lFR9Ucf",
        "colab": {
          "base_uri": "https://localhost:8080/"
        },
        "outputId": "28141a77-7a64-4f44-f13e-79fbf51eb7f8"
      },
      "execution_count": 2,
      "outputs": [
        {
          "output_type": "stream",
          "name": "stdout",
          "text": [
            "Índice: 0 Valor: 33\n",
            "Índice: 1 Valor: 36\n",
            "Índice: 2 Valor: 37\n",
            "Índice: 3 Valor: 39\n",
            "Índice: 4 Valor: 40\n",
            "Índice: 5 Valor: 41\n",
            "Índice: 6 Valor: 44\n",
            "Índice: 7 Valor: 45\n",
            "Índice: 8 Valor: 47\n",
            "Índice: 9 Valor: 49\n"
          ]
        }
      ]
    },
    {
      "cell_type": "markdown",
      "source": [
        "3.- Escribe una función que reciba dos listas de números del mismo tamaño y calcule la suma de los elementos correspondientes de cada lista. (regresar una nueva lista) . Luego, muestra una lista con los resultados de cada suma. Nota: si las listas no son del mismo tamaño mandar msge y utilizar el tamaño de la lista mas pequeña)"
      ],
      "metadata": {
        "id": "M2IFb9MmKb-6"
      }
    },
    {
      "cell_type": "code",
      "source": [
        "l1=[]\n",
        "for x in range(5):\n",
        "    valor=int(input(\"Ingrese un valor entero:\"))\n",
        "    l1.append(valor)\n",
        "print(f\"Lista 1 {l1}\")\n",
        "\n",
        "\n",
        "l2=[]\n",
        "for x in range(5):\n",
        "    valor=int(input(\"Ingrese un valor entero:\"))\n",
        "    l2.append(valor)\n",
        "print(f\"Lista 2 {l2}\")\n",
        "\n",
        "def funcion(l1,l2):\n",
        "    tamaño= min(len(l1), len(l2))\n",
        "\n",
        "    resultado=[l1[i]+l2[i] for i in range(tamaño)]\n",
        "\n",
        "    return resultado\n",
        "\n",
        "suma=funcion(l1,l2)\n",
        "print(\"LA LISTA RESULTANTE DE LAS DOS ANTERIORES ES DE:\",suma)"
      ],
      "metadata": {
        "id": "0QCLtDMhMFd3"
      },
      "execution_count": null,
      "outputs": []
    },
    {
      "cell_type": "markdown",
      "source": [
        "4.- Escribe una función llamada eliminar_duplicados que reciba una lista como parámetro y elimine los elementos duplicados. El resultado debe ser una nueva lista sin duplicados. Pide al usuario que ingrese una lista y luego llama a la función eliminar_duplicados para mostrar la lista sin duplicados. (Solo Numeros enteros, validar)"
      ],
      "metadata": {
        "id": "09dqWE87dAKC"
      }
    },
    {
      "cell_type": "code",
      "source": [
        "def eliminar_duplicados(lista):\n",
        "    lista_sin_duplicados = list(set(lista))\n",
        "    return lista_sin_duplicados\n",
        "\n",
        "def ingresar_lista():\n",
        "    while True:\n",
        "        try:\n",
        "            entrada = input(\"Ingrese una lista de números enteros separados por espacios: \")\n",
        "            lista = [int(x) for x in entrada.split()]\n",
        "            return lista\n",
        "        except ValueError:\n",
        "            print(\"Error: Ingrese solo números enteros separados por espacios.\")\n",
        "\n",
        "lista_original = ingresar_lista()\n",
        "\n",
        "lista_sin_duplicados = eliminar_duplicados(lista_original)\n",
        "\n",
        "print(\"Lista sin duplicados:\", lista_sin_duplicados)"
      ],
      "metadata": {
        "id": "pOI07mPRT2hi"
      },
      "execution_count": null,
      "outputs": []
    },
    {
      "cell_type": "markdown",
      "source": [
        "5.- Escribe una función que calcule la media y la mediana de una lista de números enteros.\n",
        "\n",
        "La media es la suma de todos los elementos y dividido entre la cantidad de elementos\n",
        "\n",
        "La mediana es el valor que queda en la mitad de la lista cuando se ordena de forma ascendente. Si la lista tiene un número par de elementos, la mediana se calcula como el promedio de los dos valores centrales. Puedes utilizar el método sort() para ordenar la lista y luego calcular la mediana según el tamaño de la lista."
      ],
      "metadata": {
        "id": "2sKFajxbD61G"
      }
    },
    {
      "cell_type": "code",
      "source": [
        "def calcular_media(lista):\n",
        "    suma_total = sum(lista)\n",
        "    elem = len(lista)\n",
        "    media = suma_total / elem\n",
        "    return media\n",
        "\n",
        "def calcular_mediana(lista):\n",
        "    listaor = sorted(lista)\n",
        "    elem = len(listaor)\n",
        "    if elem % 2 == 1:\n",
        "        mediana = listaor[elem // 2]\n",
        "    else:\n",
        "        medio_superior = listaor[elem // 2]\n",
        "        medio_inferior = listaor[elem // 2 - 1]\n",
        "        mediana = (medio_superior + medio_inferior) / 2\n",
        "    return mediana\n",
        "\n",
        "\n",
        "def generanum():\n",
        "    num = set()\n",
        "    while len(num) < 6:\n",
        "        numero = random.randrange(0, 51)\n",
        "        num.add(numero)\n",
        "    return list(num)\n",
        "\n",
        "media = calcular_media(generanum())\n",
        "mediana = calcular_mediana(generanum())\n",
        "\n",
        "\n",
        "print(\"Lista de números:\", generanum())\n",
        "print(\"Media:\", media)\n",
        "print(\"Mediana:\", mediana)"
      ],
      "metadata": {
        "id": "NIc4W5q9D_Bi",
        "colab": {
          "base_uri": "https://localhost:8080/"
        },
        "outputId": "f3e6b721-96e6-43aa-91bf-0b05cdf61761"
      },
      "execution_count": 9,
      "outputs": [
        {
          "output_type": "stream",
          "name": "stdout",
          "text": [
            "Lista de números: [0, 3, 37, 40, 41, 28]\n",
            "Media: 30.5\n",
            "Mediana: 22.0\n"
          ]
        }
      ]
    }
  ]
}