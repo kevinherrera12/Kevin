{
  "nbformat": 4,
  "nbformat_minor": 0,
  "metadata": {
    "colab": {
      "provenance": [],
      "authorship_tag": "ABX9TyMX4zt4b0gnY+RARPxIBSDF",
      "include_colab_link": true
    },
    "kernelspec": {
      "name": "python3",
      "display_name": "Python 3"
    },
    "language_info": {
      "name": "python"
    }
  },
  "cells": [
    {
      "cell_type": "markdown",
      "metadata": {
        "id": "view-in-github",
        "colab_type": "text"
      },
      "source": [
        "<a href=\"https://colab.research.google.com/github/kevinherrera12/Kevin/blob/main/Practica_9.ipynb\" target=\"_parent\"><img src=\"https://colab.research.google.com/assets/colab-badge.svg\" alt=\"Open In Colab\"/></a>"
      ]
    },
    {
      "cell_type": "markdown",
      "source": [
        "Realiza un programa en python que utilice el siguiente menu:\n",
        "\n",
        " MENU\n",
        "\n",
        " 1.- Crear Diccionario\n",
        "\n",
        " 2.- Imprimir Diccionario\n",
        "\n",
        " 0.- Salir\n",
        "\n",
        "\n",
        "\n",
        "CREAR DICCIIONARIO: funcion que retorne un diccionario con los datos de basicos de un alumno, donde se pide {id,nombre (1 O 2) , appaterno,apmaterno, edad,sexo}, El diccionario se debe generar automaticmanete a partir de listas.\n",
        "\n",
        "\n",
        "\n",
        "IMPRIMIR DICCIONARIO:  Funcion que reciba como parametro el diccionario, y le de una salida mostrando la informacion en forma de registro que se genero con el diccionario"
      ],
      "metadata": {
        "id": "NhQMuR2wHhcM"
      }
    },
    {
      "cell_type": "code",
      "execution_count": null,
      "metadata": {
        "id": "6JTJG4_uUOyF",
        "colab": {
          "base_uri": "https://localhost:8080/"
        },
        "outputId": "ab46198a-b116-4858-ef95-e50a7a9a3c87"
      },
      "outputs": [
        {
          "output_type": "stream",
          "name": "stdout",
          "text": [
            "\n",
            "MENU\n",
            "1.- Crear Diccionario\n",
            "2.- Imprimir Diccionario\n",
            "0.- Salir\n",
            "Seleccione una opción: 1\n",
            "Diccionario creado con éxito.\n",
            "\n",
            "MENU\n",
            "1.- Crear Diccionario\n",
            "2.- Imprimir Diccionario\n",
            "0.- Salir\n",
            "Seleccione una opción: 2\n",
            "Información del alumno:\n",
            "id: 1\n",
            "Nombre: Luis\n",
            "Apellido Paterno:: Pérez\n",
            "Apellido Materno: Rodriguez\n",
            "Edad: 21\n",
            "Sexo: M\n",
            "\n",
            "MENU\n",
            "1.- Crear Diccionario\n",
            "2.- Imprimir Diccionario\n",
            "0.- Salir\n"
          ]
        }
      ],
      "source": [
        "ids = [1, 2, 3]\n",
        "nombres = [\"Luis\", \"Kevin\", \"Michelle\"]\n",
        "ap_paternos = [\"Pérez\", \"Lopez\", \"Gonzalez\"]\n",
        "ap_maternos = [\"Rodriguez\", \"Martinez\", \"Diaz\"]\n",
        "edades = [21, 20, 19]\n",
        "sexos = [\"M\", \"M\", \"F\"]\n",
        "\n",
        "\n",
        "def creardic():\n",
        "    diccionario = {}\n",
        "    import random\n",
        "    index = random.randint(0, len(ids) - 1)\n",
        "    diccionario[\"id\"] = ids[index]\n",
        "    diccionario[\"Nombre\"] = nombres[index]\n",
        "    diccionario[\"Apellido Paterno:\"] = ap_paternos[index]\n",
        "    diccionario[\"Apellido Materno\"] = ap_maternos[index]\n",
        "    diccionario[\"Edad\"] = edades[index]\n",
        "    diccionario[\"Sexo\"] = sexos[index]\n",
        "    return diccionario\n",
        "\n",
        "def imprimedic(diccionario):\n",
        "    print(\"Información del alumno:\")\n",
        "    for clave, valor in diccionario.items():\n",
        "        print(f\"{clave}: {valor}\")\n",
        "\n",
        "def menu():\n",
        "    diccionario = None\n",
        "    while True:\n",
        "        print(\"\\nMENU\")\n",
        "        print(\"1.- Crear Diccionario\")\n",
        "        print(\"2.- Imprimir Diccionario\")\n",
        "        print(\"0.- Salir\")\n",
        "\n",
        "        opcion = int(input(\"Seleccione una opción: \"))\n",
        "\n",
        "        if opcion == 1:\n",
        "            diccionario = creardic()\n",
        "            print(\"Diccionario creado con éxito.\")\n",
        "        elif opcion == 2:\n",
        "            if diccionario:\n",
        "                imprimedic(diccionario)\n",
        "            else:\n",
        "                print(\"No se ha creado ningún diccionario.\")\n",
        "        elif opcion == 0:\n",
        "            print(\"Saliendo del programa.\")\n",
        "            break\n",
        "        else:\n",
        "            print(\"Opción no válida. Intente nuevamente.\")\n",
        "\n",
        "menu()"
      ]
    }
  ]
}